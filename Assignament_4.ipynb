{
 "cells": [
  {
   "cell_type": "markdown",
   "metadata": {
    "id": "s4ee1xbChS5h"
   },
   "source": [
    "# Assignment 4\n",
    "\n",
    "Before working on this assignment please read these instructions fully. In the submission area, you will notice that you can click the link to **Preview the Grading** for each step of the assignment. This is the criteria that will be used for peer grading. Please familiarize yourself with the criteria before beginning the assignment.\n",
    "\n",
    "This assignment requires that you to find **at least** two datasets on the web which are related, and that you visualize these datasets to answer a question with the broad topic of **religious events or traditions** (see below) for the region of **Ann Arbor, Michigan, United States**, or **United States** more broadly.\n",
    "\n",
    "You can merge these datasets with data from different regions if you like! For instance, you might want to compare **Ann Arbor, Michigan, United States** to Ann Arbor, USA. In that case at least one source file must be about **Ann Arbor, Michigan, United States**.\n",
    "\n",
    "You are welcome to choose datasets at your discretion, but keep in mind **they will be shared with your peers**, so choose appropriate datasets. Sensitive, confidential, illicit, and proprietary materials are not good choices for datasets for this assignment. You are welcome to upload datasets of your own as well, and link to them using a third party repository such as github, bitbucket, pastebin, etc. Please be aware of the Coursera terms of service with respect to intellectual property.\n",
    "\n",
    "Also, you are welcome to preserve data in its original language, but for the purposes of grading you should provide english translations. You are welcome to provide multiple visuals in different languages if you would like!\n",
    "\n",
    "As this assignment is for the whole course, you must incorporate principles discussed in the first week, such as having as high data-ink ratio (Tufte) and aligning with Cairo’s principles of truth, beauty, function, and insight.\n",
    "\n",
    "Here are the assignment instructions:\n",
    "\n",
    " * State the region and the domain category that your data sets are about (e.g., **Ann Arbor, Michigan, United States** and **religious events or traditions**).\n",
    " * You must state a question about the domain category and region that you identified as being interesting.\n",
    " * You must provide at least two links to available datasets. These could be links to files such as CSV or Excel files, or links to websites which might have data in tabular form, such as Wikipedia pages.\n",
    " * You must upload an image which addresses the research question you stated. In addition to addressing the question, this visual should follow Cairo's principles of truthfulness, functionality, beauty, and insightfulness.\n",
    " * You must contribute a short (1-2 paragraph) written justification of how your visualization addresses your stated research question.\n",
    "\n",
    "What do we mean by **religious events or traditions**?  For this category you might consider calendar events, demographic data about religion in the region and neighboring regions, participation in religious events, or how religious events relate to political events, social movements, or historical events.\n",
    "\n",
    "## Tips\n",
    "* Wikipedia is an excellent source of data, and I strongly encourage you to explore it for new data sources.\n",
    "* Many governments run open data initiatives at the city, region, and country levels, and these are wonderful resources for localized data sources.\n",
    "* Several international agencies, such as the [United Nations](http://data.un.org/), the [World Bank](http://data.worldbank.org/), the [Global Open Data Index](http://index.okfn.org/place/) are other great places to look for data.\n",
    "* This assignment requires you to convert and clean datafiles. Check out the discussion forums for tips on how to do this from various sources, and share your successes with your fellow students!\n",
    "\n",
    "## Example\n",
    "Looking for an example? Here's what our course assistant put together for the **Ann Arbor, MI, USA** area using **sports and athletics** as the topic. [Example Solution File](./readonly/Assignment4_example.pdf)"
   ]
  },
  {
   "cell_type": "markdown",
   "metadata": {
    "id": "bTrR-4s6hkjN"
   },
   "source": [
    "# Solution\n",
    "For this assignment I want to analyze the growth between resident population and the reported traditions of different congregations adherent in Michigan.\n",
    "\n",
    "# Research question\n",
    "How the religion traditions change among Michigan residents over the period of 1980-2010\n",
    "\n",
    "# Datasets\n",
    "\n",
    "U.S. Census Bureau, Historical Population Change Data (1910-2020) : \n",
    "[population-change-data-table](https://www.census.gov/data/tables/time-series/dec/popchange-data-text.html)<br>\n",
    "\n",
    "Association of Statisticians of American Religious Bodies (ASARB) State Membership Report: [Michigan](https://web.archive.org/web/20210228085740/https://www.thearda.com/rcms2010/r/s/26/rcms2010_26_state_adh_1980.asp)"
   ]
  },
  {
   "cell_type": "markdown",
   "metadata": {
    "id": "mkVx3gf3hq13"
   },
   "source": [
    "# Data processing"
   ]
  },
  {
   "cell_type": "code",
   "execution_count": null,
   "metadata": {
    "id": "Uq5n67N8hI1G"
   },
   "outputs": [],
   "source": [
    "import pandas as pd\n",
    "import numpy as np\n",
    "from matplotlib import pyplot as plt\n",
    "import matplotlib.dates as mdates\n",
    "import matplotlib.ticker as ticker\n",
    "from matplotlib.ticker import FormatStrFormatter, StrMethodFormatter"
   ]
  },
  {
   "cell_type": "markdown",
   "metadata": {
    "id": "AxEEbC3whuYh"
   },
   "source": [
    "The format that Bureau excel files use is tricky, so I modified them a little bit dividing the census data by year in different excel sheets. "
   ]
  },
  {
   "cell_type": "code",
   "execution_count": null,
   "metadata": {
    "id": "rTV-CM3Sh4gm"
   },
   "outputs": [],
   "source": [
    "xls=pd.ExcelFile(\"/content/population-change-data-table-modif.xlsx\")\n",
    "sheet_to_df_map={}\n",
    "for sheet_name in xls.sheet_names:\n",
    "    sheet_to_df_map[sheet_name] = xls.parse(sheet_name)\n",
    "    sheet_to_df_map[sheet_name]['Area'][0]='Area'\n",
    "    cols=list(sheet_to_df_map[sheet_name].loc[0])\n",
    "    sheet_to_df_map[sheet_name]=sheet_to_df_map[sheet_name].set_axis(cols, axis=1, inplace=False)\n",
    "    sheet_to_df_map[sheet_name]=sheet_to_df_map[sheet_name].drop([0]).reset_index(drop=True)\n",
    "    sheet_to_df_map[sheet_name]=sheet_to_df_map[sheet_name][22:23]"
   ]
  },
  {
   "cell_type": "code",
   "execution_count": null,
   "metadata": {
    "colab": {
     "base_uri": "https://localhost:8080/",
     "height": 171
    },
    "id": "Taoqh1zeh8Xq",
    "outputId": "64a583e6-e9d5-4eb8-e018-f3464ab6555d"
   },
   "outputs": [
    {
     "data": {
      "text/html": [
       "<div>\n",
       "<style scoped>\n",
       "    .dataframe tbody tr th:only-of-type {\n",
       "        vertical-align: middle;\n",
       "    }\n",
       "\n",
       "    .dataframe tbody tr th {\n",
       "        vertical-align: top;\n",
       "    }\n",
       "\n",
       "    .dataframe thead th {\n",
       "        text-align: right;\n",
       "    }\n",
       "</style>\n",
       "<table border=\"1\" class=\"dataframe\">\n",
       "  <thead>\n",
       "    <tr style=\"text-align: right;\">\n",
       "      <th></th>\n",
       "      <th>year</th>\n",
       "      <th>pop</th>\n",
       "    </tr>\n",
       "  </thead>\n",
       "  <tbody>\n",
       "    <tr>\n",
       "      <th>0</th>\n",
       "      <td>1980</td>\n",
       "      <td>9262078</td>\n",
       "    </tr>\n",
       "    <tr>\n",
       "      <th>1</th>\n",
       "      <td>1990</td>\n",
       "      <td>9295297</td>\n",
       "    </tr>\n",
       "    <tr>\n",
       "      <th>2</th>\n",
       "      <td>2000</td>\n",
       "      <td>9938444</td>\n",
       "    </tr>\n",
       "    <tr>\n",
       "      <th>3</th>\n",
       "      <td>2010</td>\n",
       "      <td>9883640</td>\n",
       "    </tr>\n",
       "  </tbody>\n",
       "</table>\n",
       "</div>"
      ],
      "text/plain": [
       "   year      pop\n",
       "0  1980  9262078\n",
       "1  1990  9295297\n",
       "2  2000  9938444\n",
       "3  2010  9883640"
      ]
     },
     "execution_count": 3,
     "metadata": {
      "tags": []
     },
     "output_type": "execute_result"
    }
   ],
   "source": [
    "df_census=pd.DataFrame(columns=['year','pop'])\n",
    "df_census.loc[0]=[1980]+[sheet_to_df_map['1950_1980'].loc[22]['Resident Population 1980 Census']]\n",
    "df_census.loc[1]=[1990]+[sheet_to_df_map['1990_2020'].loc[22]['Resident Population 1990 Census']]\n",
    "df_census.loc[2]=[2000]+[sheet_to_df_map['1990_2020'].loc[22]['Resident Population 2000 Census']]\n",
    "df_census.loc[3]=[2010]+[sheet_to_df_map['1990_2020'].loc[22]['Resident Population 2010 Census']]\n",
    "df_census"
   ]
  },
  {
   "cell_type": "markdown",
   "metadata": {
    "id": "hAId51b0iFb_"
   },
   "source": [
    "For the traditions report, I just linked the tables to an Excel file."
   ]
  },
  {
   "cell_type": "code",
   "execution_count": null,
   "metadata": {
    "id": "iMgDGTnsh-vy"
   },
   "outputs": [],
   "source": [
    "xls2=pd.ExcelFile(\"/content/michigan_religious_traditions_2.xlsx\")\n",
    "df_traditions=pd.DataFrame(columns=['year','Black Protestant','Catholic','Evangelical Protestant','Mainline Protestant',\n",
    "                                   'Orthodox','Other'])\n",
    "sheet_to_df_map_2={}\n",
    "i=0\n",
    "for sheet_name in xls2.sheet_names:\n",
    "    sheet_to_df_map_2[sheet_name] = xls2.parse(sheet_name)\n",
    "    sheet_to_df_map_2[sheet_name] = sheet_to_df_map_2[sheet_name].drop([0]).reset_index(drop=True)\n",
    "    sheet_to_df_map_2[sheet_name]['Adherents']=sheet_to_df_map_2[sheet_name]['Adherents'].replace('---',0).astype(int)\n",
    "    traditions=sheet_to_df_map_2[sheet_name][['Tradition','Adherents']].groupby('Tradition').sum()\n",
    "    df_traditions.loc[i]=[int(sheet_name)]+[traditions.iloc[0]['Adherents']]+[traditions.iloc[1]['Adherents']]+[traditions.iloc[2]['Adherents']]+[traditions.iloc[3]['Adherents']]+[traditions.iloc[4]['Adherents']]+[traditions.iloc[5]['Adherents']]\n",
    "    i=i+1"
   ]
  },
  {
   "cell_type": "code",
   "execution_count": null,
   "metadata": {
    "colab": {
     "base_uri": "https://localhost:8080/",
     "height": 171
    },
    "id": "lN84JmcJiKMM",
    "outputId": "7dbc9762-e3be-433a-a92e-252951bcfbda"
   },
   "outputs": [
    {
     "data": {
      "text/html": [
       "<div>\n",
       "<style scoped>\n",
       "    .dataframe tbody tr th:only-of-type {\n",
       "        vertical-align: middle;\n",
       "    }\n",
       "\n",
       "    .dataframe tbody tr th {\n",
       "        vertical-align: top;\n",
       "    }\n",
       "\n",
       "    .dataframe thead th {\n",
       "        text-align: right;\n",
       "    }\n",
       "</style>\n",
       "<table border=\"1\" class=\"dataframe\">\n",
       "  <thead>\n",
       "    <tr style=\"text-align: right;\">\n",
       "      <th></th>\n",
       "      <th>year</th>\n",
       "      <th>Black Protestant</th>\n",
       "      <th>Catholic</th>\n",
       "      <th>Evangelical Protestant</th>\n",
       "      <th>Mainline Protestant</th>\n",
       "      <th>Orthodox</th>\n",
       "      <th>Other</th>\n",
       "    </tr>\n",
       "  </thead>\n",
       "  <tbody>\n",
       "    <tr>\n",
       "      <th>0</th>\n",
       "      <td>2010</td>\n",
       "      <td>214114</td>\n",
       "      <td>1717296</td>\n",
       "      <td>1277144</td>\n",
       "      <td>653898</td>\n",
       "      <td>47533</td>\n",
       "      <td>255358</td>\n",
       "    </tr>\n",
       "    <tr>\n",
       "      <th>1</th>\n",
       "      <td>2000</td>\n",
       "      <td>0</td>\n",
       "      <td>2019926</td>\n",
       "      <td>1065468</td>\n",
       "      <td>783541</td>\n",
       "      <td>47519</td>\n",
       "      <td>241680</td>\n",
       "    </tr>\n",
       "    <tr>\n",
       "      <th>2</th>\n",
       "      <td>1990</td>\n",
       "      <td>47183</td>\n",
       "      <td>2338608</td>\n",
       "      <td>1276394</td>\n",
       "      <td>882128</td>\n",
       "      <td>7380</td>\n",
       "      <td>134857</td>\n",
       "    </tr>\n",
       "    <tr>\n",
       "      <th>3</th>\n",
       "      <td>1980</td>\n",
       "      <td>46205</td>\n",
       "      <td>2043483</td>\n",
       "      <td>803864</td>\n",
       "      <td>1007369</td>\n",
       "      <td>7776</td>\n",
       "      <td>44219</td>\n",
       "    </tr>\n",
       "  </tbody>\n",
       "</table>\n",
       "</div>"
      ],
      "text/plain": [
       "   year Black Protestant Catholic  ... Mainline Protestant Orthodox   Other\n",
       "0  2010           214114  1717296  ...              653898    47533  255358\n",
       "1  2000                0  2019926  ...              783541    47519  241680\n",
       "2  1990            47183  2338608  ...              882128     7380  134857\n",
       "3  1980            46205  2043483  ...             1007369     7776   44219\n",
       "\n",
       "[4 rows x 7 columns]"
      ]
     },
     "execution_count": 5,
     "metadata": {
      "tags": []
     },
     "output_type": "execute_result"
    }
   ],
   "source": [
    "df_traditions"
   ]
  },
  {
   "cell_type": "markdown",
   "metadata": {
    "id": "TOvuwFzLiMsv"
   },
   "source": [
    "# Visualization"
   ]
  },
  {
   "cell_type": "code",
   "execution_count": null,
   "metadata": {
    "colab": {
     "base_uri": "https://localhost:8080/",
     "height": 1000
    },
    "id": "VS5WRpIiiNjL",
    "outputId": "3ab93f76-d919-4121-a288-50a6ea99a7ac"
   },
   "outputs": [
    {
     "data": {
      "image/png": "[encoded data removed]",
      "text/plain": [
       "<Figure size 1008x2160 with 1 Axes>"
      ]
     },
     "metadata": {
      "needs_background": "light",
      "tags": []
     },
     "output_type": "display_data"
    }
   ],
   "source": [
    "width=4\n",
    "fig,ax=plt.subplots(figsize=(14,30))\n",
    "ax.bar(df_census['year']-width/2,df_census['pop'],width,color='#728FCE',label='Residents')\n",
    "\n",
    "i=3\n",
    "while(i>=0):\n",
    "    if i==3:\n",
    "        ax.bar(df_traditions['year'].loc[i]+width/2,df_traditions['Black Protestant'][i],width,color='blue',label='Black Protestant')\n",
    "        ax.bar(df_traditions['year'].loc[i]+width/2,df_traditions['Catholic'][i],width,bottom=df_traditions['Black Protestant'][i],color='orange',label='Catholic')\n",
    "        ax.bar(df_traditions['year'].loc[i]+width/2,df_traditions['Evangelical Protestant'][i],width,bottom=df_traditions['Black Protestant'][i]+df_traditions['Catholic'][i],color='green',label='Evangelical Protestant')\n",
    "        ax.bar(df_traditions['year'].loc[i]+width/2,df_traditions['Mainline Protestant'][i],width,bottom=df_traditions['Black Protestant'][i]+df_traditions['Catholic'][i]+df_traditions['Evangelical Protestant'][i],color='red',label='Mainline Protestant')\n",
    "        ax.bar(df_traditions['year'].loc[i]+width/2,df_traditions['Orthodox'][i],width,bottom=df_traditions['Black Protestant'][i]+df_traditions['Catholic'][i]+df_traditions['Evangelical Protestant'][i]+df_traditions['Mainline Protestant'][i],color='violet',label='Orthodox')\n",
    "        ax.bar(df_traditions['year'].loc[i]+width/2,df_traditions['Other'][i],width,bottom=df_traditions['Black Protestant'][i]+df_traditions['Catholic'][i]+df_traditions['Evangelical Protestant'][i]+df_traditions['Mainline Protestant'][i]+df_traditions['Orthodox'][i],color='brown',label='Other')\n",
    "    else:\n",
    "        ax.bar(df_traditions['year'].loc[i]+width/2,df_traditions['Black Protestant'][i],width,color='blue')\n",
    "        ax.bar(df_traditions['year'].loc[i]+width/2,df_traditions['Catholic'][i],width,bottom=df_traditions['Black Protestant'][i],color='orange')\n",
    "        ax.bar(df_traditions['year'].loc[i]+width/2,df_traditions['Evangelical Protestant'][i],width,bottom=df_traditions['Black Protestant'][i]+df_traditions['Catholic'][i],color='green',)\n",
    "        ax.bar(df_traditions['year'].loc[i]+width/2,df_traditions['Mainline Protestant'][i],width,bottom=df_traditions['Black Protestant'][i]+df_traditions['Catholic'][i]+df_traditions['Evangelical Protestant'][i],color='red')\n",
    "        ax.bar(df_traditions['year'].loc[i]+width/2,df_traditions['Orthodox'][i],width,bottom=df_traditions['Black Protestant'][i]+df_traditions['Catholic'][i]+df_traditions['Evangelical Protestant'][i]+df_traditions['Mainline Protestant'][i],color='violet')\n",
    "        ax.bar(df_traditions['year'].loc[i]+width/2,df_traditions['Other'][i],width,bottom=df_traditions['Black Protestant'][i]+df_traditions['Catholic'][i]+df_traditions['Evangelical Protestant'][i]+df_traditions['Mainline Protestant'][i]+df_traditions['Orthodox'][i],color='brown')\n",
    "    i=i-1\n",
    "plt.legend(ncol=6,loc='upper center')\n",
    "plt.grid(axis='y')\n",
    "plt.ticklabel_format(useOffset=False, style='plain')\n",
    "plt.gca().yaxis.set_major_locator(ticker.MultipleLocator(500000))\n",
    "plt.gca().yaxis.set_minor_locator(ticker.MultipleLocator(250000))\n",
    "_=ax.set_xticks([1980,1990,2000,2010])\n",
    "_=ax.set_xticklabels(['1980','1990','2000','2010'])\n",
    "_=ax.set_xlabel('Years',size=15)\n",
    "_=ax.set_ylabel('Millions of people',size=15)\n",
    "ax.yaxis.set_major_formatter(StrMethodFormatter('{x:,}'))\n",
    "_=ax.set_title('Population and religious traditions in Michigan (1980-2010)', size=15)"
   ]
  },
  {
   "cell_type": "markdown",
   "metadata": {
    "id": "CFKJ-xI3iPu1"
   },
   "source": [
    "# Conclusion\n",
    "\n",
    "This visualization seeks to answer the question about how the religion traditions changed in Michigan over  years, U.S. census doesn't ask questions about citizens  religion, so this chart will give an approximate outlook of the topic. Two websites were used to search for data, for Michigans resident population I used the [United States Census Bureau](https://www.census.gov/en.html) and for the traditions report, the [ARDA](https://www.thearda.com) website provided a great source of surveys and datasets related to  religion. It's necessary to highlight that this data is provided by different congregations in Michigan and not all the congregations report its adherents every year. The 4-years resident population data was plotted as a barplot and the traditions as a stacked bar plot with differents colors for each tradition.\n",
    "\n",
    "Comparing the population bar plot and their religious traditions, the plot shows that not all the population was covered by the reports, so there is a certainty of just forty percent of the residents. Only in the year two thousand these reports reached the fivety percent of population, in respect to traditions it appears that Michigan residents are mainly catholic, this is constant between the years nineteen eighty and two thousand, but in two thousand ten despite catholics still being the majority its evident an increase of other beliefs like black protestant, evangelical protestant and the category containing other beliefs with smaller followings."
   ]
  }
 ],
 "metadata": {
  "colab": {
   "collapsed_sections": [],
   "name": "Assignament_4.ipynb",
   "provenance": []
  },
  "kernelspec": {
   "display_name": "Python 3",
   "language": "python",
   "name": "python3"
  },
  "language_info": {
   "codemirror_mode": {
    "name": "ipython",
    "version": 3
   },
   "file_extension": ".py",
   "mimetype": "text/x-python",
   "name": "python",
   "nbconvert_exporter": "python",
   "pygments_lexer": "ipython3",
   "version": "3.8.5"
  }
 },
 "nbformat": 4,
 "nbformat_minor": 1
}
